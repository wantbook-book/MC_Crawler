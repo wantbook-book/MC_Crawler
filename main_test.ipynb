{
 "cells": [
  {
   "cell_type": "code",
   "execution_count": 3,
   "metadata": {},
   "outputs": [],
   "source": [
    "import requests\n",
    "from bs4 import BeautifulSoup, NavigableString, Tag\n",
    "import html2text"
   ]
  },
  {
   "cell_type": "code",
   "execution_count": 37,
   "metadata": {},
   "outputs": [
    {
     "name": "stdout",
     "output_type": "stream",
     "text": [
      "You are a question-and-answer dataset generating expert, you are generating data that will be used to train a large language model designed to address questions posed by users regarding the game Minecraft, and from that, you will generate question-and-answer data samples, each with a prompt/response pair.\n",
      "\n",
      "You will do so in this format:\n",
      "```\n",
      "prompt\n",
      "-----------\n",
      "$prompt_goes_here\n",
      "-----------\n",
      "\n",
      "response\n",
      "-----------\n",
      "$response_goes_here\n",
      "-----------\n",
      "```\n",
      "\n",
      "Your task is to generate at least 20 examples.Make sure your samples are unique and diverse, yet high-quality and complex enough to train a well-performing model.\n"
     ]
    }
   ],
   "source": [
    "print(f'You are a question-and-answer dataset generating expert, you are generating data that will be used to train a large language model designed to address questions posed by users regarding the game Minecraft, and from that, you will generate question-and-answer data samples, each with a prompt/response pair.\\n\\nYou will do so in this format:\\n```\\nprompt\\n-----------\\n$prompt_goes_here\\n-----------\\n\\nresponse\\n-----------\\n$response_goes_here\\n-----------\\n```\\n\\nYour task is to generate at least 20 examples.Make sure your samples are unique and diverse, yet high-quality and complex enough to train a well-performing model.')"
   ]
  },
  {
   "cell_type": "code",
   "execution_count": 4,
   "metadata": {},
   "outputs": [],
   "source": [
    "# URL of the page to scrape\n",
    "# url = 'https://minecraft.fandom.com/wiki/Minecraft_Wiki'\n",
    "url = 'https://minecraft.wiki/w/Diamond'\n",
    "# Make a request to fetch the HTML content\n",
    "response = requests.get(url)\n",
    "html_content = response.text"
   ]
  },
  {
   "cell_type": "code",
   "execution_count": 5,
   "metadata": {},
   "outputs": [],
   "source": [
    "with open('diamond.html', 'w') as f:\n",
    "    f.write(html_content)"
   ]
  },
  {
   "cell_type": "code",
   "execution_count": 6,
   "metadata": {},
   "outputs": [],
   "source": [
    "# Use Beautiful Soup to parse the HTML\n",
    "soup = BeautifulSoup(html_content, 'html.parser')\n",
    "\n",
    "# Extract the main content of the page - adjust the selector based on your needs\n",
    "main_content = soup.find('div', {'class': 'mw-parser-output'})"
   ]
  },
  {
   "cell_type": "code",
   "execution_count": 7,
   "metadata": {},
   "outputs": [
    {
     "name": "stdout",
     "output_type": "stream",
     "text": [
      "[<h1 class=\"firstHeading mw-first-heading\" id=\"firstHeading\"><span class=\"mw-page-title-main\">Diamond</span></h1>]\n"
     ]
    }
   ],
   "source": [
    "h1s = soup.find_all('h1')\n",
    "print(h1s)\n",
    "if len(h1s) > 1:\n",
    "    print('unexpected h1s>1')\n",
    "h1_text = None\n",
    "for h1 in h1s:\n",
    "    if h1['id'] == 'firstHeading':\n",
    "        h1_text = h1.text\n",
    "if not h1_text:\n",
    "    print('firstheading not found')\n"
   ]
  },
  {
   "cell_type": "code",
   "execution_count": 8,
   "metadata": {},
   "outputs": [],
   "source": [
    "mw_parser_output = soup.find('div', {'class': 'mw-parser-output'})"
   ]
  },
  {
   "cell_type": "code",
   "execution_count": 9,
   "metadata": {},
   "outputs": [
    {
     "name": "stdout",
     "output_type": "stream",
     "text": [
      "A diamond is a mineral that can be obtained from diamond ore, loot chests, and suspicious sand. It can be used to craft diamond tools and armor (and therefore obtain obsidian), and is required to craft enchanting tables, jukeboxes and duplicate smithing templates.\n",
      "\n"
     ]
    }
   ],
   "source": [
    "first_p = mw_parser_output.find('p', recursive=False)\n",
    "if not first_p:\n",
    "    print('first_p not found')\n",
    "else:\n",
    "    first_p_text = first_p.get_text()\n",
    "    print(first_p_text)"
   ]
  },
  {
   "cell_type": "code",
   "execution_count": 10,
   "metadata": {},
   "outputs": [],
   "source": [
    "toc = mw_parser_output.find('div', {'class': 'toc'})\n",
    "# print(toc)\n",
    "ul = toc.find('ul', recursive=False)\n",
    "lis = ul.find_all('li', recursive=False)"
   ]
  },
  {
   "cell_type": "code",
   "execution_count": 11,
   "metadata": {},
   "outputs": [
    {
     "name": "stdout",
     "output_type": "stream",
     "text": [
      "Contents\n",
      "[{'title': '1 Obtaining', 'sub_sections': [{'title': '1.1 Mining'}, {'title': '1.2 Chest loot'}, {'title': '1.3 Suspicious sand loot'}, {'title': '1.4 Crafting'}, {'title': '1.5 Smelting'}]}, {'title': '2 Usage', 'sub_sections': [{'title': '2.1 Crafting ingredient'}, {'title': '2.2 Trading'}, {'title': '2.3 Repairing'}, {'title': '2.4 Beacons'}, {'title': '2.5 Smithing ingredient'}]}, {'title': '3 Data values', 'sub_sections': [{'title': '3.1 ID'}]}, {'title': '4 Achievements'}, {'title': '5 Advancements'}, {'title': '6 History'}, {'title': '7 Issues'}, {'title': '8 Trivia'}, {'title': '9 Gallery', 'sub_sections': [{'title': '9.1 Screenshots'}, {'title': '9.2 In other media'}]}, {'title': '10 External links'}]\n"
     ]
    }
   ],
   "source": [
    "def convert_multilevel_toc(ul):\n",
    "    sections = []\n",
    "    lis = ul.find_all('li', recursive=False)\n",
    "    for li in lis:\n",
    "        section = {\n",
    "            'title': li.a.get_text(),\n",
    "        }\n",
    "        ul_2 = li.find('ul')\n",
    "        if ul_2:\n",
    "            section['sub_sections'] = convert_multilevel_toc(ul_2)\n",
    "        sections.append(section)\n",
    "    return sections\n",
    "toc = mw_parser_output.find('div', {'class': 'toc'})\n",
    "if not toc:\n",
    "    print('toc not found')\n",
    "else:\n",
    "    toc_title = toc.find('div', {'class': 'toctitle'})\n",
    "    if not toc_title:\n",
    "        print('toc_title not found')\n",
    "    else:\n",
    "        toc_title_text = toc_title.get_text()\n",
    "        print(toc_title_text)\n",
    "    toc_ul = toc.find('ul')\n",
    "    if not toc_ul:\n",
    "        print('toc_ul not found')\n",
    "    else:\n",
    "        toc_sections = convert_multilevel_toc(toc_ul)\n",
    "        print(toc_sections)"
   ]
  },
  {
   "cell_type": "code",
   "execution_count": 44,
   "metadata": {},
   "outputs": [
    {
     "name": "stdout",
     "output_type": "stream",
     "text": [
      "[{'title': '1 Obtaining', 'sub_sections': [{'title': '1.1 Mining'}, {'title': '1.2 Chest loot'}, {'title': '1.3 Suspicious sand loot'}, {'title': '1.4 Crafting'}, {'title': '1.5 Smelting'}]}, {'title': '2 Usage', 'sub_sections': [{'title': '2.1 Crafting ingredient'}, {'title': '2.2 Trading'}, {'title': '2.3 Repairing'}, {'title': '2.4 Beacons'}, {'title': '2.5 Smithing ingredient'}]}, {'title': '3 Data values', 'sub_sections': [{'title': '3.1 ID'}]}, {'title': '4 Achievements'}, {'title': '5 Advancements'}, {'title': '6 History'}, {'title': '7 Issues'}, {'title': '8 Trivia'}, {'title': '9 Gallery', 'sub_sections': [{'title': '9.1 Screenshots'}, {'title': '9.2 In other media'}]}, {'title': '10 External links'}]\n"
     ]
    }
   ],
   "source": [
    "print(toc_sections)"
   ]
  },
  {
   "cell_type": "code",
   "execution_count": 12,
   "metadata": {},
   "outputs": [],
   "source": [
    "exclude_topic = ['Achievements', 'Advancements', 'History', 'Issues', 'Trivia', 'Gallery', 'References', 'External links']\n",
    "def filter_section(section_title):\n",
    "    if section_title in exclude_topic:\n",
    "        return True\n",
    "    return False"
   ]
  },
  {
   "cell_type": "code",
   "execution_count": 25,
   "metadata": {},
   "outputs": [],
   "source": [
    "\n",
    "def get_table_content(table):\n",
    "    rows = []\n",
    "    column_count = 0\n",
    "    trs = table.find_all('tr')\n",
    "    row = []\n",
    "    for th in trs[0].find_all('th'):\n",
    "        row.append(th.get_text().strip())\n",
    "        column_count += 1\n",
    "    rows.append(row)\n",
    "    for tr in trs[1:]:\n",
    "        row = []\n",
    "        tds = tr.find_all('td')\n",
    "        ths = tr.find_all('th')\n",
    "        for _ in range(column_count-len(tds)-len(ths)):\n",
    "            row.append('')\n",
    "        for th in ths:\n",
    "            row.append(th.get_text().strip())\n",
    "        for td in tds:\n",
    "            # details differs, need to make sure all conditions are covered\n",
    "            spans = td.find_all('span', recursive=False)\n",
    "            row_text = ''\n",
    "            if spans:\n",
    "                for span in td.find_all('span'):\n",
    "                    if span.get('class') is not None and 'sprite-text' in span['class']:\n",
    "                        # the <pre> appears behind the <span> own text\n",
    "                        # row.append(span.get_text().strip())\n",
    "                        row_text += span.get_text().strip()\n",
    "            if row_text:\n",
    "                row.append(row_text)\n",
    "            else:\n",
    "                # row.append('')\n",
    "                if td.contents:\n",
    "                    content0 = td.contents[0]\n",
    "                    if isinstance(content0, NavigableString):\n",
    "                        row.append(content0.strip())\n",
    "                    elif isinstance(content0, Tag):\n",
    "                        row.append(td.get_text().strip())\n",
    "                    else:\n",
    "                        print('unexpected content0 type') \n",
    "                        row.append('')\n",
    "                else:\n",
    "                    row.append('')\n",
    "        rows.append(row)\n",
    "    return rows"
   ]
  },
  {
   "cell_type": "code",
   "execution_count": 14,
   "metadata": {},
   "outputs": [],
   "source": [
    "# with open('test_data/table.txt', 'r') as f:\n",
    "#     table_str = f.read()\n",
    "# table = BeautifulSoup(table_str, 'html.parser')\n",
    "# table_content = get_table_content(table)\n",
    "# print(table_content[0])\n",
    "# print(table_content[1])\n",
    "# print(table_content[2])\n",
    "# print(table_content[3])"
   ]
  },
  {
   "cell_type": "code",
   "execution_count": 32,
   "metadata": {},
   "outputs": [],
   "source": [
    "h_names = [f'h{i}' for i in range(8)]\n",
    "def get_all_content(content_area):\n",
    "    all_content = []\n",
    "    first_h2 = content_area.find('h2', recursive=False)\n",
    "    # print(first_h2)\n",
    "    h2_title = first_h2.find_all('span', recursive=False)[0].get_text()\n",
    "    next_sib = first_h2\n",
    "    skip_section = False\n",
    "    if filter_section(h2_title):\n",
    "        skip_section = True\n",
    "        next_sib = next_sib.find_next_sibling()\n",
    "        print(f'start skiping: {h2_title}')\n",
    "    while next_sib:\n",
    "        for i, h_name in enumerate(h_names):\n",
    "            if next_sib.name == h_name:\n",
    "                level = 2\n",
    "                h_title = next_sib.find_all('span', recursive=False)[0].get_text()\n",
    "                if i == 2:\n",
    "                    if filter_section(h_title):\n",
    "                        next_sib = next_sib.find_next_sibling()\n",
    "                        skip_section = True\n",
    "                        print(f'start skiping: {h_title}')\n",
    "                        continue\n",
    "                    else:\n",
    "                        print(f'stop skiping: {h_title}')\n",
    "                        skip_section = False\n",
    "                else:\n",
    "                    level = i\n",
    "                if not skip_section:\n",
    "                    all_content.append(\n",
    "                        {\n",
    "                            'type': 'title',\n",
    "                            'level': level,\n",
    "                            'content': h_title\n",
    "                        }\n",
    "                    )\n",
    "                next_sib = next_sib.find_next_sibling()\n",
    "                continue\n",
    "        if skip_section:\n",
    "            next_sib = next_sib.find_next_sibling()\n",
    "            continue\n",
    "        if next_sib.name == 'table':\n",
    "            table_content = get_table_content(next_sib)\n",
    "            all_content.append(\n",
    "                {\n",
    "                    'type': 'table',\n",
    "                    'content': table_content\n",
    "                }\n",
    "            )\n",
    "        else:\n",
    "            # assume all other content is text\n",
    "            all_content.append(\n",
    "                {\n",
    "                    'type': 'text',\n",
    "                    'content': next_sib.get_text()\n",
    "                }\n",
    "            )\n",
    "        next_sib = next_sib.find_next_sibling()\n",
    "    return all_content"
   ]
  },
  {
   "cell_type": "code",
   "execution_count": 33,
   "metadata": {},
   "outputs": [
    {
     "name": "stdout",
     "output_type": "stream",
     "text": [
      "stop skiping: Obtaining\n",
      "stop skiping: Usage\n",
      "stop skiping: Data values\n",
      "start skiping: Achievements\n",
      "start skiping: Advancements\n",
      "start skiping: History\n",
      "start skiping: Issues\n",
      "start skiping: Trivia\n",
      "start skiping: Gallery\n",
      "start skiping: External links\n"
     ]
    }
   ],
   "source": [
    "h2 = mw_parser_output.find('h2')\n",
    "# print(first_h2.find_all('span')[0].get_text())\n",
    "all_content = get_all_content(mw_parser_output)"
   ]
  },
  {
   "cell_type": "code",
   "execution_count": 17,
   "metadata": {},
   "outputs": [
    {
     "name": "stdout",
     "output_type": "stream",
     "text": [
      "{'type': 'title', 'level': 2, 'content': 'Obtaining'}\n",
      "{'type': 'text', 'content': 'See also: Tutorials/Diamonds\\n'}\n",
      "{'type': 'title', 'level': 3, 'content': 'Mining'}\n",
      "{'type': 'text', 'content': 'See also: Diamond Ore\\xa0§\\xa0Natural generation\\n'}\n",
      "{'type': 'text', 'content': \"Diamond ore can be mined using an iron pickaxe or better. An ore drops a single diamond. If mined by any other tool, it drops nothing. If the pickaxe is enchanted with Fortune, it has a chance of dropping an extra diamond per level of Fortune, allowing for a maximum of 4 diamonds with Fortune III. If the ore is mined using a pickaxe enchanted with Silk Touch, it drops an ore block rather than a diamond. The ore is found at level 15 or lower, most commonly between -50 and -64; levels -58 and -59 are the preferred levels to mine at since they don't contain bedrock, as it starts spawning at -60.\\n\"}\n",
      "{'type': 'title', 'level': 3, 'content': 'Chest loot'}\n",
      "{'type': 'table', 'content': [['Item', 'Structure', 'Container', 'Quantity', 'Chance'], ['', '', '', '', 'Java Edition'], ['Diamond', 'Mineshaft', 'Chest', '1–2', '8.9%'], ['', 'Bastion Remnant', 'Treasure\\xa0chest', '2–6', '14.3%'], ['', 'Buried Treasure', 'Chest', '1–2', '59.9%'], ['', 'Desert Pyramid', 'Chest', '1–3', '6.3%'], ['', '', 'Suspicious\\xa0sand', '1', '12.5%'], ['', 'End City', 'Chest', '2–7', '21.2%'], ['', 'Jungle Pyramid', 'Chest', '1–3', '12.9%'], ['', 'Nether Fortress', 'Chest', '1–3', '19%'], ['', 'Shipwreck', 'Treasure\\xa0chest', '1', '14.1%'], ['', 'Stronghold', 'Altar\\xa0chest', '1–3', '7.3%'], ['', 'Trial Chambers', 'Corridor\\xa0pot', '1–4', '0.9%'], ['', '', 'Reward\\xa0container', '1–2', '9.6%'], ['', '', 'Intersection\\xa0chest', '1–2', '21.5%'], ['', '', 'Intersection\\xa0barrel', '1–3', '5.9%'], ['', 'Village', \"Weaponsmith's\\xa0chest\", '1–3', '16.2%'], ['', '', \"Toolsmith's\\xa0chest\", '1–3', '9.9%'], ['', '', '', '', 'Java Edition 1.21'], ['Diamond', 'Trial Chambers', 'Ominous\\xa0Vault', '2–3', '25.5%'], ['', '', '', '', 'Bedrock Edition'], ['Diamond', 'Mineshaft', 'Chest', '1–2', '8.9%'], ['', 'Bastion Remnant', 'Treasure\\xa0chest', '2–6', '14.3%'], ['', 'Buried Treasure', 'Chest', '1', '46.9%'], ['', 'Desert Pyramid', 'Chest', '1–3', '6.3%'], ['', '', 'Suspicious\\xa0sand', '1', '12.5%'], ['', 'End City', 'Chest', '2–7', '21.2%'], ['', 'Jungle Pyramid', 'Chest', '1–3', '12.8%'], ['', 'Nether Fortress', 'Chest', '1–3', '19%'], ['', 'Shipwreck', 'Treasure\\xa0chest', '1', '14.1%'], ['', 'Stronghold', 'Altar\\xa0chest', '1–3', '7.1%'], ['', 'Trial Chambers', 'Intersection\\xa0barrel', '1–3', '5.9%'], ['', '', 'Reward\\xa0container', '1–2', '9.6%'], ['', '', 'Intersection\\xa0chest', '1–2', '21.5%'], ['', 'Village', \"Weaponsmith's\\xa0chest\", '1–3', '16.2%'], ['', '', \"Toolsmith's\\xa0chest\", '1–3', '9.9%']]}\n"
     ]
    }
   ],
   "source": [
    "for i in range(7):\n",
    "    print(all_content[i])"
   ]
  },
  {
   "cell_type": "code",
   "execution_count": 18,
   "metadata": {},
   "outputs": [
    {
     "name": "stdout",
     "output_type": "stream",
     "text": [
      "['Item', 'Structure', 'Container', 'Quantity', 'Chance']\n",
      "['', '', '', '', 'Java Edition']\n",
      "['Diamond', 'Mineshaft', 'Chest', '1–2', '8.9%']\n",
      "['', 'Bastion Remnant', 'Treasure\\xa0chest', '2–6', '14.3%']\n",
      "['', 'Buried Treasure', 'Chest', '1–2', '59.9%']\n",
      "['', 'Desert Pyramid', 'Chest', '1–3', '6.3%']\n"
     ]
    }
   ],
   "source": [
    "table = all_content[6]['content']\n",
    "for i in range(6):\n",
    "    print(table[i])"
   ]
  },
  {
   "cell_type": "code",
   "execution_count": 19,
   "metadata": {},
   "outputs": [],
   "source": [
    "def to_md_table(table_content: list[list[str]]):\n",
    "    if not table_content:\n",
    "        return \"\"\n",
    "\n",
    "    # Determine maximum width of each column\n",
    "    column_widths = [max(len(str(item)) for item in column) for column in zip(*table_content)]\n",
    "\n",
    "    # Create the Markdown table string\n",
    "    markdown_table = \"\"\n",
    "\n",
    "    # Add header row\n",
    "    try:\n",
    "        header_row = table_content[0]\n",
    "        markdown_table += \"| \" + \" | \".join(f\"{item:{column_widths[i]}}\" for i, item in enumerate(header_row)) + \" |\\n\"\n",
    "    except Exception as e:\n",
    "        print(column_widths)\n",
    "        print(table_content)\n",
    "        print(header_row)\n",
    "\n",
    "    # Add separator row\n",
    "    markdown_table += \"|-\" + \"-|-\".join(\"-\" * width for width in column_widths) + \"-|\\n\"\n",
    "\n",
    "    # Add data rows\n",
    "    for row in table_content[1:]:\n",
    "        try:\n",
    "            markdown_table += \"| \" + \" | \".join(f\"{item:{column_widths[i]}}\" for i, item in enumerate(row)) + \" |\\n\"\n",
    "        except Exception as e:\n",
    "            print(column_widths)\n",
    "            print(row)\n",
    "\n",
    "    return markdown_table+'\\n'\n",
    "\n",
    "def to_header(title: str, level: int):\n",
    "    return f\"{'#' * level} {title}\\n\"\n"
   ]
  },
  {
   "cell_type": "code",
   "execution_count": 30,
   "metadata": {},
   "outputs": [],
   "source": [
    "def write_all_content(file_name, all_content):\n",
    "    with open(file_name, 'a') as f:\n",
    "        for content in all_content:\n",
    "            if content['type'] == 'title':\n",
    "                f.write(to_header(content['content'], content['level']))\n",
    "            elif content['type'] == 'table':\n",
    "                f.write(to_md_table(content['content']))\n",
    "            elif content['type'] == 'text':\n",
    "                f.write(content['content']+'\\n')\n",
    "\n",
    "file_name = 'diamond.md'\n",
    "\n",
    "write_all_content(file_name, all_content)\n",
    "\n"
   ]
  },
  {
   "cell_type": "code",
   "execution_count": 45,
   "metadata": {},
   "outputs": [
    {
     "data": {
      "text/plain": [
       "['https:', '', 'minecraft.wiki', 'w', 'Diamond_Hoe']"
      ]
     },
     "execution_count": 45,
     "metadata": {},
     "output_type": "execute_result"
    }
   ],
   "source": [
    "'https://minecraft.wiki/w/Diamond_Hoe'.split('/')"
   ]
  }
 ],
 "metadata": {
  "kernelspec": {
   "display_name": "venv",
   "language": "python",
   "name": "python3"
  },
  "language_info": {
   "codemirror_mode": {
    "name": "ipython",
    "version": 3
   },
   "file_extension": ".py",
   "mimetype": "text/x-python",
   "name": "python",
   "nbconvert_exporter": "python",
   "pygments_lexer": "ipython3",
   "version": "3.11.5"
  }
 },
 "nbformat": 4,
 "nbformat_minor": 2
}
