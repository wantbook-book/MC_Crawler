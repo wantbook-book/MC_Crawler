{
 "cells": [
  {
   "cell_type": "code",
   "execution_count": 2,
   "metadata": {},
   "outputs": [],
   "source": [
    "import requests\n",
    "from bs4 import BeautifulSoup\n",
    "from pathlib import Path"
   ]
  },
  {
   "cell_type": "code",
   "execution_count": 12,
   "metadata": {},
   "outputs": [],
   "source": [
    "# def get_items_urls():\n",
    "base_url = 'https://minecraft.wiki'\n",
    "urls = []\n",
    "url = 'https://minecraft.wiki/w/Block'\n",
    "html_content = requests.get(url).text\n",
    "soup = BeautifulSoup(html_content, 'html.parser')\n",
    "mw_parser_output = soup.find('div', class_='mw-parser-output')\n",
    "div_cols = mw_parser_output.find_all('div', lambda x: x and 'div-col' in x, recursive=True)\n",
    "for div_col in div_cols:\n",
    "    lis = div_col.find_all('li', recursive=True)\n",
    "    for li in lis:\n",
    "        a_tags = li.find_all('a', recursive=True)\n",
    "        for a_tag in a_tags:\n",
    "            if 'title' in a_tag.attrs and 'href' in a_tag.attrs:\n",
    "                url_path = a_tag['href']\n",
    "                urls.append(base_url+url_path)\n",
    "\n",
    "# get_items_urls()"
   ]
  },
  {
   "cell_type": "code",
   "execution_count": 16,
   "metadata": {},
   "outputs": [
    {
     "name": "stdout",
     "output_type": "stream",
     "text": [
      "https://minecraft.wiki/w/Acacia_Button\n",
      "1117\n"
     ]
    }
   ],
   "source": [
    "print(urls[0])\n",
    "print(len(urls))"
   ]
  },
  {
   "cell_type": "code",
   "execution_count": 18,
   "metadata": {},
   "outputs": [],
   "source": [
    "# def get_items_urls():\n",
    "base_url = 'https://minecraft.wiki'\n",
    "urls = []\n",
    "url = 'https://minecraft.wiki/w/Mob'\n",
    "html_content = requests.get(url).text\n",
    "soup = BeautifulSoup(html_content, 'html.parser')\n",
    "mw_parser_output = soup.find('div', class_='mw-parser-output')\n",
    "tables = mw_parser_output.find_all('table', recursive=True, attrs={'data-description': True})\n",
    "for table in tables:\n",
    "    trs = table.find_all('tr', recursive=True)\n",
    "    for tr in trs:\n",
    "        tds = tr.find_all('td', recursive=False)\n",
    "        for td in tds:\n",
    "            a_tags = td.find_all('a', recursive=True)\n",
    "            for a_tag in a_tags:\n",
    "                if 'title' in a_tag.attrs and 'href' in a_tag.attrs:\n",
    "                    url_path = a_tag['href']\n",
    "                    urls.append(base_url+url_path)\n",
    "                    break\n",
    "\n",
    "# get_items_urls()"
   ]
  },
  {
   "cell_type": "code",
   "execution_count": 20,
   "metadata": {},
   "outputs": [
    {
     "name": "stdout",
     "output_type": "stream",
     "text": [
      "['https://minecraft.wiki/w/Allay', 'https://minecraft.wiki/w/Axolotl', 'https://minecraft.wiki/w/Bat', 'https://minecraft.wiki/w/Camel', 'https://minecraft.wiki/w/Cat', 'https://minecraft.wiki/w/Chicken', 'https://minecraft.wiki/w/Cod', 'https://minecraft.wiki/w/Cow', 'https://minecraft.wiki/w/Donkey', 'https://minecraft.wiki/w/Frog', 'https://minecraft.wiki/w/Glow_Squid', 'https://minecraft.wiki/w/Allay', 'https://minecraft.wiki/w/Axolotl', 'https://minecraft.wiki/w/Bat', 'https://minecraft.wiki/w/Camel', 'https://minecraft.wiki/w/Cat', 'https://minecraft.wiki/w/Chicken', 'https://minecraft.wiki/w/Cod', 'https://minecraft.wiki/w/Cow', 'https://minecraft.wiki/w/Donkey', 'https://minecraft.wiki/w/Frog', 'https://minecraft.wiki/w/Glow_Squid', 'https://minecraft.wiki/w/Horse', 'https://minecraft.wiki/w/Mooshroom', 'https://minecraft.wiki/w/Mule', 'https://minecraft.wiki/w/Ocelot', 'https://minecraft.wiki/w/Parrot', 'https://minecraft.wiki/w/Pig', 'https://minecraft.wiki/w/Pufferfish', 'https://minecraft.wiki/w/Rabbit', 'https://minecraft.wiki/w/Salmon', 'https://minecraft.wiki/w/Sheep', 'https://minecraft.wiki/w/Horse', 'https://minecraft.wiki/w/Mooshroom', 'https://minecraft.wiki/w/Mule', 'https://minecraft.wiki/w/Ocelot', 'https://minecraft.wiki/w/Parrot', 'https://minecraft.wiki/w/Pig', 'https://minecraft.wiki/w/Pufferfish', 'https://minecraft.wiki/w/Rabbit', 'https://minecraft.wiki/w/Salmon', 'https://minecraft.wiki/w/Sheep', 'https://minecraft.wiki/w/Skeleton_Horse', 'https://minecraft.wiki/w/Sniffer', 'https://minecraft.wiki/w/Snow_Golem', 'https://minecraft.wiki/w/Squid', 'https://minecraft.wiki/w/Strider', 'https://minecraft.wiki/w/Tadpole', 'https://minecraft.wiki/w/Tropical_Fish', 'https://minecraft.wiki/w/Turtle', 'https://minecraft.wiki/w/Villager', 'https://minecraft.wiki/w/Wandering_Trader', 'https://minecraft.wiki/w/Skeleton_Horse', 'https://minecraft.wiki/w/Sniffer', 'https://minecraft.wiki/w/Snow_Golem', 'https://minecraft.wiki/w/Squid', 'https://minecraft.wiki/w/Strider', 'https://minecraft.wiki/w/Tadpole', 'https://minecraft.wiki/w/Tropical_Fish', 'https://minecraft.wiki/w/Turtle', 'https://minecraft.wiki/w/Villager', 'https://minecraft.wiki/w/Wandering_Trader', 'https://minecraft.wiki/w/Bee', 'https://minecraft.wiki/w/Cave_Spider', 'https://minecraft.wiki/w/Dolphin', 'https://minecraft.wiki/w/Drowned', 'https://minecraft.wiki/w/Enderman', 'https://minecraft.wiki/w/Fox', 'https://minecraft.wiki/w/Goat', 'https://minecraft.wiki/w/Iron_Golem', 'https://minecraft.wiki/w/Bee', 'https://minecraft.wiki/w/Cave_Spider', 'https://minecraft.wiki/w/Dolphin', 'https://minecraft.wiki/w/Drowned', 'https://minecraft.wiki/w/Enderman', 'https://minecraft.wiki/w/Fox', 'https://minecraft.wiki/w/Goat', 'https://minecraft.wiki/w/Iron_Golem', 'https://minecraft.wiki/w/Llama', 'https://minecraft.wiki/w/Panda', 'https://minecraft.wiki/w/Piglin', 'https://minecraft.wiki/w/Polar_Bear', 'https://minecraft.wiki/w/Spider', 'https://minecraft.wiki/w/Trader_Llama', 'https://minecraft.wiki/w/Wolf', 'https://minecraft.wiki/w/Zombified_Piglin', 'https://minecraft.wiki/w/Llama', 'https://minecraft.wiki/w/Panda', 'https://minecraft.wiki/w/Piglin', 'https://minecraft.wiki/w/Polar_Bear', 'https://minecraft.wiki/w/Spider', 'https://minecraft.wiki/w/Trader_Llama', 'https://minecraft.wiki/w/Wolf', 'https://minecraft.wiki/w/Zombified_Piglin', 'https://minecraft.wiki/w/Blaze', 'https://minecraft.wiki/w/Creeper', 'https://minecraft.wiki/w/Elder_Guardian', 'https://minecraft.wiki/w/Endermite', 'https://minecraft.wiki/w/Evoker', 'https://minecraft.wiki/w/Ghast', 'https://minecraft.wiki/w/Guardian', 'https://minecraft.wiki/w/Hoglin', 'https://minecraft.wiki/w/Husk', 'https://minecraft.wiki/w/Blaze', 'https://minecraft.wiki/w/Creeper', 'https://minecraft.wiki/w/Elder_Guardian', 'https://minecraft.wiki/w/Endermite', 'https://minecraft.wiki/w/Evoker', 'https://minecraft.wiki/w/Ghast', 'https://minecraft.wiki/w/Guardian', 'https://minecraft.wiki/w/Hoglin', 'https://minecraft.wiki/w/Husk', 'https://minecraft.wiki/w/Magma_Cube', 'https://minecraft.wiki/w/Phantom', 'https://minecraft.wiki/w/Piglin_Brute', 'https://minecraft.wiki/w/Pillager', 'https://minecraft.wiki/w/Ravager', 'https://minecraft.wiki/w/Shulker', 'https://minecraft.wiki/w/Silverfish', 'https://minecraft.wiki/w/Skeleton', 'https://minecraft.wiki/w/Slime', 'https://minecraft.wiki/w/Magma_Cube', 'https://minecraft.wiki/w/Phantom', 'https://minecraft.wiki/w/Piglin_Brute', 'https://minecraft.wiki/w/Pillager', 'https://minecraft.wiki/w/Ravager', 'https://minecraft.wiki/w/Shulker', 'https://minecraft.wiki/w/Silverfish', 'https://minecraft.wiki/w/Skeleton', 'https://minecraft.wiki/w/Slime', 'https://minecraft.wiki/w/Stray', 'https://minecraft.wiki/w/Vex', 'https://minecraft.wiki/w/Vindicator', 'https://minecraft.wiki/w/Warden', 'https://minecraft.wiki/w/Witch', 'https://minecraft.wiki/w/Wither_Skeleton', 'https://minecraft.wiki/w/Zoglin', 'https://minecraft.wiki/w/Zombie', 'https://minecraft.wiki/w/Zombie_Villager', 'https://minecraft.wiki/w/Stray', 'https://minecraft.wiki/w/Vex', 'https://minecraft.wiki/w/Vindicator', 'https://minecraft.wiki/w/Warden', 'https://minecraft.wiki/w/Witch', 'https://minecraft.wiki/w/Wither_Skeleton', 'https://minecraft.wiki/w/Zoglin', 'https://minecraft.wiki/w/Zombie', 'https://minecraft.wiki/w/Zombie_Villager', 'https://minecraft.wiki/w/Ender_Dragon', 'https://minecraft.wiki/w/Wither', 'https://minecraft.wiki/w/Ender_Dragon', 'https://minecraft.wiki/w/Wither', 'https://minecraft.wiki/w/Armadillo', 'https://minecraft.wiki/w/Bogged', 'https://minecraft.wiki/w/Breeze', 'https://minecraft.wiki/w/Armadillo', 'https://minecraft.wiki/w/Bogged', 'https://minecraft.wiki/w/Breeze', 'https://minecraft.wiki/w/Agent', 'https://minecraft.wiki/w/Elder_Guardian_Ghost', 'https://minecraft.wiki/w/Giant', 'https://minecraft.wiki/w/Illusioner', 'https://minecraft.wiki/w/NPC', 'https://minecraft.wiki/w/Old_Villager', 'https://minecraft.wiki/w/Old_Zombie_Villager', 'https://minecraft.wiki/w/The_Killer_Bunny', 'https://minecraft.wiki/w/Zombie_Horse', 'https://minecraft.wiki/w/Agent', 'https://minecraft.wiki/w/Elder_Guardian_Ghost', 'https://minecraft.wiki/w/Giant', 'https://minecraft.wiki/w/Illusioner', 'https://minecraft.wiki/w/NPC', 'https://minecraft.wiki/w/Old_Villager', 'https://minecraft.wiki/w/Old_Zombie_Villager', 'https://minecraft.wiki/w/The_Killer_Bunny', 'https://minecraft.wiki/w/Zombie_Horse', 'https://minecraft.wiki/w/Mob_(entity)', 'https://minecraft.wiki/w/Beast_Boy', 'https://minecraft.wiki/w/Black_Steve', 'https://minecraft.wiki/w/Rana', 'https://minecraft.wiki/w/Steve_(mob)', 'https://minecraft.wiki/w/Monster_(entity)', 'https://minecraft.wiki/w/Mob_(entity)', 'https://minecraft.wiki/w/Beast_Boy', 'https://minecraft.wiki/w/Black_Steve', 'https://minecraft.wiki/w/Rana', 'https://minecraft.wiki/w/Steve_(mob)', 'https://minecraft.wiki/w/Monster_(entity)', 'https://minecraft.wiki/w/Diamond_Chicken', 'https://minecraft.wiki/w/Java_Edition_2.0#Mobs', 'https://minecraft.wiki/w/Love_Golem', 'https://minecraft.wiki/w/Mars', 'https://minecraft.wiki/w/Moon_Cow', 'https://minecraft.wiki/w/Nerd_Creeper', 'https://minecraft.wiki/w/Pink_Wither', 'https://minecraft.wiki/w/Pony', 'https://minecraft.wiki/w/Diamond_Chicken', 'https://minecraft.wiki/w/Java_Edition_2.0#Mobs', 'https://minecraft.wiki/w/Love_Golem', 'https://minecraft.wiki/w/Mars', 'https://minecraft.wiki/w/Moon_Cow', 'https://minecraft.wiki/w/Nerd_Creeper', 'https://minecraft.wiki/w/Pink_Wither', 'https://minecraft.wiki/w/Pony', 'https://minecraft.wiki/w/Ray_Tracing_(mob)', 'https://minecraft.wiki/w/Redstone_Bug', 'https://minecraft.wiki/w/Smiling_Creeper', 'https://minecraft.wiki/w/Batato', 'https://minecraft.wiki/w/Mega_Spud', 'https://minecraft.wiki/w/Poisonous_Potato_Zombie', 'https://minecraft.wiki/w/Plaguewhale_Slab', 'https://minecraft.wiki/w/Toxifin_Slab', 'https://minecraft.wiki/w/Ray_Tracing_(mob)', 'https://minecraft.wiki/w/Redstone_Bug', 'https://minecraft.wiki/w/Smiling_Creeper', 'https://minecraft.wiki/w/Batato', 'https://minecraft.wiki/w/Mega_Spud', 'https://minecraft.wiki/w/Poisonous_Potato_Zombie', 'https://minecraft.wiki/w/Plaguewhale_Slab', 'https://minecraft.wiki/w/Toxifin_Slab', 'https://minecraft.wiki/w/Pigman', 'https://minecraft.wiki/w/Barnacle', 'https://minecraft.wiki/w/The_Great_Hunger', 'https://minecraft.wiki/w/The_Hovering_Inferno', 'https://minecraft.wiki/w/Meerkat', 'https://minecraft.wiki/w/Ostrich', 'https://minecraft.wiki/w/Termite', 'https://minecraft.wiki/w/Vulture', 'https://minecraft.wiki/w/Pigman_Bodyguard', 'https://minecraft.wiki/w/Red_Dragon', 'https://minecraft.wiki/w/Alpaca', 'https://minecraft.wiki/w/Barnacle', 'https://minecraft.wiki/w/The_Great_Hunger', 'https://minecraft.wiki/w/The_Hovering_Inferno', 'https://minecraft.wiki/w/Meerkat', 'https://minecraft.wiki/w/Ostrich', 'https://minecraft.wiki/w/Termite', 'https://minecraft.wiki/w/Vulture', 'https://minecraft.wiki/w/Moobloom', 'https://minecraft.wiki/w/Iceologer', 'https://minecraft.wiki/w/Glare', 'https://minecraft.wiki/w/Copper_Golem', 'https://minecraft.wiki/w/Java_Edition_mentioned_features#Firefly', 'https://minecraft.wiki/w/Rascal', 'https://minecraft.wiki/w/Tuff_Golem', 'https://minecraft.wiki/w/Crab', 'https://minecraft.wiki/w/Penguin', 'https://minecraft.wiki/w/Moobloom', 'https://minecraft.wiki/w/Iceologer', 'https://minecraft.wiki/w/Glare', 'https://minecraft.wiki/w/Copper_Golem', 'https://minecraft.wiki/w/Firefly', 'https://minecraft.wiki/w/Rascal', 'https://minecraft.wiki/w/Tuff_Golem', 'https://minecraft.wiki/w/Crab', 'https://minecraft.wiki/w/Penguin', 'https://minecraft.wiki/w/Poison', 'https://minecraft.wiki/w/Fire', 'https://minecraft.wiki/w/Poison', 'https://minecraft.wiki/w/Poison', 'https://minecraft.wiki/w/Area_effect_cloud', 'https://minecraft.wiki/w/Mining_Fatigue', 'https://minecraft.wiki/w/Area_effect_cloud', 'https://minecraft.wiki/w/Hunger', 'https://minecraft.wiki/w/Blindness', 'https://minecraft.wiki/w/Poison', 'https://minecraft.wiki/w/Poison', 'https://minecraft.wiki/w/Poison', 'https://minecraft.wiki/w/Levitation', 'https://minecraft.wiki/w/Blaze', 'https://minecraft.wiki/w/Slowness', 'https://minecraft.wiki/w/Potions', 'https://minecraft.wiki/w/Poison', 'https://minecraft.wiki/w/Wither_(effect)', 'https://minecraft.wiki/w/Wither_(effect)', 'https://minecraft.wiki/w/Wither_(effect)', 'https://minecraft.wiki/w/Wither#Wither_skull', 'https://minecraft.wiki/w/Achievement#Monster_Hunter', 'https://minecraft.wiki/w/Achievement#Monster_Hunter', 'https://minecraft.wiki/w/Achievement#Cow_Tipper', 'https://minecraft.wiki/w/Achievement#Cow_Tipper', 'https://minecraft.wiki/w/Leather', 'https://minecraft.wiki/w/Achievement#When_Pigs_Fly', 'https://minecraft.wiki/w/Achievement#When_Pigs_Fly', 'https://minecraft.wiki/w/Saddle', 'https://minecraft.wiki/w/Achievement#Sniper_Duel', 'https://minecraft.wiki/w/Achievement#Sniper_Duel', 'https://minecraft.wiki/w/Arrow', 'https://minecraft.wiki/w/Achievement#Return_to_Sender', 'https://minecraft.wiki/w/Achievement#Return_to_Sender', 'https://minecraft.wiki/w/Ghast', 'https://minecraft.wiki/w/Ghast_fireball', 'https://minecraft.wiki/w/Achievement#The_Beginning?', 'https://minecraft.wiki/w/Achievement#The_Beginning?', 'https://minecraft.wiki/w/Wither', 'https://minecraft.wiki/w/Achievement#The_Beginning.', 'https://minecraft.wiki/w/Achievement#The_Beginning.', 'https://minecraft.wiki/w/Achievement#Repopulation', 'https://minecraft.wiki/w/Achievement#Repopulation', 'https://minecraft.wiki/w/Cow', 'https://minecraft.wiki/w/Achievement#Leader_of_the_Pack', 'https://minecraft.wiki/w/Achievement#Leader_of_the_Pack', 'https://minecraft.wiki/w/Wolves', 'https://minecraft.wiki/w/Achievement#Have_a_Shearful_Day', 'https://minecraft.wiki/w/Achievement#Have_a_Shearful_Day', 'https://minecraft.wiki/w/Shears', 'https://minecraft.wiki/w/Achievement#Body_Guard', 'https://minecraft.wiki/w/Achievement#Body_Guard', 'https://minecraft.wiki/w/Iron_Golem', 'https://minecraft.wiki/w/Achievement#Zombie_Doctor', 'https://minecraft.wiki/w/Achievement#Zombie_Doctor', 'https://minecraft.wiki/w/Zombie_villager', 'https://minecraft.wiki/w/Splash_potion', 'https://minecraft.wiki/w/Achievement#Archer', 'https://minecraft.wiki/w/Achievement#Archer', 'https://minecraft.wiki/w/Creeper', 'https://minecraft.wiki/w/Achievement#The_Deep_End', 'https://minecraft.wiki/w/Achievement#The_Deep_End', 'https://minecraft.wiki/w/Elder_Guardian', 'https://minecraft.wiki/w/Achievement#The_End..._Again...', 'https://minecraft.wiki/w/Achievement#The_End..._Again...', 'https://minecraft.wiki/w/Ender_Dragon', 'https://minecraft.wiki/w/Achievement#Great_View_From_Up_Here', 'https://minecraft.wiki/w/Achievement#Great_View_From_Up_Here', 'https://minecraft.wiki/w/Shulker', 'https://minecraft.wiki/w/Achievement#Echolocation', 'https://minecraft.wiki/w/Achievement#Echolocation', 'https://minecraft.wiki/w/Dolphin', 'https://minecraft.wiki/w/Achievement#Where_have_you_been?', 'https://minecraft.wiki/w/Achievement#Where_have_you_been?', 'https://minecraft.wiki/w/Achievement#Zoologist', 'https://minecraft.wiki/w/Achievement#Zoologist', 'https://minecraft.wiki/w/Achievement#Plethora_of_Cats', 'https://minecraft.wiki/w/Achievement#Plethora_of_Cats', 'https://minecraft.wiki/w/Cat', 'https://minecraft.wiki/w/Village', 'https://minecraft.wiki/w/Achievement#Kill_the_Beast!', 'https://minecraft.wiki/w/Achievement#Kill_the_Beast!', 'https://minecraft.wiki/w/Ravager', \"https://minecraft.wiki/w/Achievement#I've_got_a_bad_feeling_about_this\", \"https://minecraft.wiki/w/Achievement#I've_got_a_bad_feeling_about_this\", 'https://minecraft.wiki/w/Pillager_Captain', 'https://minecraft.wiki/w/Achievement#Bee_our_guest', 'https://minecraft.wiki/w/Achievement#Bee_our_guest', 'https://minecraft.wiki/w/Campfire', 'https://minecraft.wiki/w/Achievement#Total_Beelocation', 'https://minecraft.wiki/w/Achievement#Total_Beelocation', 'https://minecraft.wiki/w/Bee_Nest', 'https://minecraft.wiki/w/Achievement#Whatever_Floats_Your_Goat', 'https://minecraft.wiki/w/Achievement#Whatever_Floats_Your_Goat', 'https://minecraft.wiki/w/Goat', 'https://minecraft.wiki/w/Achievement#The_Healing_Power_of_Friendship!', 'https://minecraft.wiki/w/Achievement#The_Healing_Power_of_Friendship!', 'https://minecraft.wiki/w/Axolotl', 'https://minecraft.wiki/w/Achievement#Star_trader', 'https://minecraft.wiki/w/Achievement#Star_trader', 'https://minecraft.wiki/w/Villager', 'https://minecraft.wiki/w/Achievement#Feels_Like_Home', 'https://minecraft.wiki/w/Achievement#Feels_Like_Home', 'https://minecraft.wikihttps://en.wikipedia.org/wiki/Sic', 'https://minecraft.wiki/w/Strider', 'https://minecraft.wiki/w/Achievement#Birthday_Song', 'https://minecraft.wiki/w/Achievement#Birthday_Song', 'https://minecraft.wiki/w/Allay', 'https://minecraft.wiki/w/Achievement#With_Our_Powers_Combined!', 'https://minecraft.wiki/w/Achievement#With_Our_Powers_Combined!', 'https://minecraft.wiki/w/Froglight', 'https://minecraft.wiki/w/Advancement#Zombie_Doctor', 'https://minecraft.wiki/w/Golden_apple', 'https://minecraft.wiki/w/Advancement#Return_to_Sender', 'https://minecraft.wiki/w/Ghast', 'https://minecraft.wiki/w/Advancement#Oh_Shiny', 'https://minecraft.wiki/w/Piglin', 'https://minecraft.wiki/w/Advancement#This_Boat_Has_Legs', 'https://minecraft.wiki/w/Warped_fungus_on_a_stick', 'https://minecraft.wiki/w/Advancement#Uneasy_Alliance', 'https://minecraft.wiki/w/Ghast', 'https://minecraft.wiki/w/Advancement#Spooky_Scary_Skeleton', 'https://minecraft.wiki/w/Wither_skeleton_skull', 'https://minecraft.wiki/w/Advancement#Into_Fire', 'https://minecraft.wiki/w/Blaze_rod', 'https://minecraft.wiki/w/Advancement#Withering_Heights', 'https://minecraft.wiki/w/Wither', 'https://minecraft.wiki/w/Advancement#How_Did_We_Get_Here?', 'https://minecraft.wiki/w/Effect', 'https://minecraft.wiki/w/Advancement#Free_the_End', 'https://minecraft.wiki/w/Ender_dragon', 'https://minecraft.wiki/w/Advancement#The_End..._Again...', 'https://minecraft.wiki/w/Ender_dragon', 'https://minecraft.wiki/w/Advancement#You_Need_a_Mint', 'https://minecraft.wiki/w/Dragon%27s_breath', 'https://minecraft.wiki/w/Advancement#Great_View_From_Up_Here', 'https://minecraft.wiki/w/Shulker', 'https://minecraft.wiki/w/Levitation', 'https://minecraft.wiki/w/Advancement#Adventure', 'https://minecraft.wiki/w/Living_entity', 'https://minecraft.wiki/w/Advancement#Monster_Hunter', 'https://minecraft.wiki/w/Blaze', 'https://minecraft.wiki/w/Advancement#What_a_Deal!', 'https://minecraft.wiki/w/Villager', 'https://minecraft.wiki/w/Advancement#Monsters_Hunted', 'https://minecraft.wiki/w/Blaze', 'https://minecraft.wiki/w/Advancement#Hired_Help', 'https://minecraft.wiki/w/Iron_golem', \"https://minecraft.wiki/w/Advancement#Who's_the_Pillager_Now?\", 'https://minecraft.wiki/w/Pillager', 'https://minecraft.wiki/w/Advancement#Arbalistic', 'https://minecraft.wiki/w/Crossbow', 'https://minecraft.wiki/w/Armor_Stand', 'https://minecraft.wiki/w/Advancement#Sniper_Duel', 'https://minecraft.wiki/w/Skeleton', 'https://minecraft.wiki/w/Advancement#Bee_Our_Guest', 'https://minecraft.wiki/w/Campfire', 'https://minecraft.wiki/w/Glass_bottle', 'https://minecraft.wiki/w/Advancement#The_Parrots_and_the_Bats', 'https://minecraft.wiki/w/Armadillo', 'https://minecraft.wiki/w/Advancement#Best_Friends_Forever', 'https://minecraft.wiki/w/Cat', 'https://minecraft.wiki/w/Advancement#Total_Beelocation', 'https://minecraft.wiki/w/Bee_Nest', 'https://minecraft.wiki/w/Advancement#Two_by_Two', 'https://minecraft.wiki/w/Breed', 'https://minecraft.wiki/w/Steve_(mob)', 'https://minecraft.wiki/w/Beast_Boy', 'https://minecraft.wiki/w/Steve_(mob)', 'https://minecraft.wiki/w/Arrow', 'https://minecraft.wiki/w/Pigmen', 'https://minecraft.wiki/w/Zombie_pigmen', 'https://minecraft.wiki/w/Glow_squid', 'https://minecraft.wiki/w/Bedrock_Edition_1.20.0', 'https://minecraft.wiki/w/Bedrock_Edition_1.21.0', 'https://minecraft.wiki/w/Java_Edition_Beta_1.4', 'https://minecraft.wiki/w/Pocket_Edition_Alpha_0.15.0', 'https://minecraft.wiki/w/Pocket_Edition_Alpha_0.16.0']\n",
      "434\n"
     ]
    }
   ],
   "source": [
    "print(urls)\n",
    "print(len(urls))"
   ]
  }
 ],
 "metadata": {
  "kernelspec": {
   "display_name": "venv",
   "language": "python",
   "name": "python3"
  },
  "language_info": {
   "codemirror_mode": {
    "name": "ipython",
    "version": 3
   },
   "file_extension": ".py",
   "mimetype": "text/x-python",
   "name": "python",
   "nbconvert_exporter": "python",
   "pygments_lexer": "ipython3",
   "version": "3.11.5"
  }
 },
 "nbformat": 4,
 "nbformat_minor": 2
}
